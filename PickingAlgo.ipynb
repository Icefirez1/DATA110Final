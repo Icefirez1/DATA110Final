{
 "cells": [
  {
   "cell_type": "code",
   "execution_count": null,
   "metadata": {
    "colab": {
     "base_uri": "https://localhost:8080/"
    },
    "id": "I1uOX0dB6fkt",
    "outputId": "e3bf189f-25a1-4d56-de20-d3d2527ed339"
   },
   "outputs": [
    {
     "name": "stdout",
     "output_type": "stream",
     "text": [
      "Drive already mounted at /content/drive; to attempt to forcibly remount, call drive.mount(\"/content/drive\", force_remount=True).\n"
     ]
    }
   ],
   "source": [
    "from google.colab import drive\n",
    "\n",
    "#NOTE\n",
    "#for google drive purposes only\n",
    "# Mount Google Drive\n",
    "drive.mount('/content/drive')"
   ]
  },
  {
   "cell_type": "code",
   "execution_count": null,
   "metadata": {
    "colab": {
     "base_uri": "https://localhost:8080/"
    },
    "id": "BfnAkVgwsHbQ",
    "outputId": "aa572e38-4cf2-44fc-98e3-debf1ef3a8bf"
   },
   "outputs": [
    {
     "name": "stdout",
     "output_type": "stream",
     "text": [
      "Enter your city: tokyo\n",
      "Enter the country of this city: japan\n",
      "    city      lat       lng country\n",
      "0  Tokyo  35.6897  139.6922   Japan\n",
      "\n",
      "Closest station:\n",
      "ID                      USR0000CFIV\n",
      "NAME           FIVE_MILE_CALIFORNIA\n",
      "LATITUDE                    35.8717\n",
      "LONGITUDE                 -117.9183\n",
      "STNELEV                      1264.9\n",
      "Year                           2011\n",
      "January                       934.0\n",
      "February                      823.0\n",
      "March                        1256.0\n",
      "April                        1586.0\n",
      "May                          1827.0\n",
      "June                         2462.0\n",
      "July                         2851.0\n",
      "August                       2962.0\n",
      "September                    2747.0\n",
      "October                      2092.0\n",
      "November                     1080.0\n",
      "December                      878.0\n",
      "distance_km               20.243762\n",
      "Name: 111692, dtype: object\n"
     ]
    }
   ],
   "source": [
    "import pandas as pd\n",
    "from math import radians, sin, cos, sqrt, atan2\n",
    "\n",
    "#Using the Haversine formula to calculate distance between two lon/lat\n",
    "def haversine(lat1, long1, lat2, long2):\n",
    "    R = 6371\n",
    "    lat1, lon1, lat2, lon2 = map(radians, [lat1, long1, lat2, long2])\n",
    "    dlat = lat2 - lat1\n",
    "    dlong = long2 - long1\n",
    "    a = sin(dlat / 2)**2 + cos(lat1) * cos(lat2) * sin(dlong / 2)**2\n",
    "    c = 2 * atan2(sqrt(a), sqrt(1 - a))\n",
    "    return R * c\n",
    "\n",
    "#input city\n",
    "city_input = input(\"Enter your city: \").strip()\n",
    "country_input = input(\"Enter the country of this city: \").strip()\n",
    "\n",
    "#NOTE\n",
    "#FILE PATH IS ASSOCIATED WITH USER'S SPECIFIC COMPUTER\n",
    "file_path = '/content/drive/My Drive/2011-2020.csv'\n",
    "temp = pd.read_csv(file_path)\n",
    "cities = pd.read_csv(\"worldcities.csv\")\n",
    "\n",
    "#clean city datset\n",
    "cities = cities.filter([\"city\", \"lat\", \"lng\", \"country\"])\n",
    "\n",
    "#match city and country to input\n",
    "match_city = (cities[\"city\"].str.lower() == city_input.lower())\n",
    "match_country = (cities[\"country\"].str.lower() == country_input.lower())\n",
    "correct_match = cities[match_city & match_country]\n",
    "\n",
    "# CHeck if city is in dataset\n",
    "if not correct_match.empty:\n",
    "    print(correct_match)\n",
    "    city_lat = correct_match[\"lat\"].values[0]\n",
    "    city_lon = correct_match[\"lng\"].values[0]\n",
    "\n",
    "    #Calculate distance from the city to all stations\n",
    "    temp[\"distance_km\"] = temp.apply(\n",
    "        lambda row: haversine(city_lat, city_lon, row[\"LATITUDE\"], row[\"LONGITUDE\"]),\n",
    "        axis=1\n",
    "    )\n",
    "\n",
    "    #Find the closest station\n",
    "    closest_station = temp.loc[temp[\"distance_km\"].idxmin()]\n",
    "    print(\"\\nClosest station:\")\n",
    "    print(closest_station)\n",
    "else:\n",
    "    print(\"No matching city and country found.\")\n"
   ]
  }
 ],
 "metadata": {
  "colab": {
   "provenance": []
  },
  "kernelspec": {
   "display_name": "Python 3",
   "name": "python3"
  },
  "language_info": {
   "name": "python"
  }
 },
 "nbformat": 4,
 "nbformat_minor": 0
}
