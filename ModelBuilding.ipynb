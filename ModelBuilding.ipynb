{
 "cells": [
  {
   "cell_type": "code",
   "execution_count": 1,
   "metadata": {},
   "outputs": [],
   "source": [
    "import pandas as pd \n",
    "import numpy as np \n",
    "import matplotlib.pyplot as plt \n",
    "import seaborn as sns \n",
    "from sklearn.model_selection import train_test_split \n",
    "from sklearn.linear_model import LinearRegression \n",
    "from sklearn.metrics import mean_squared_error, mean_absolute_error \n",
    "from sklearn import preprocessing "
   ]
  },
  {
   "cell_type": "code",
   "execution_count": null,
   "metadata": {},
   "outputs": [
    {
     "name": "stderr",
     "output_type": "stream",
     "text": [
      "<>:1: SyntaxWarning: invalid escape sequence '\\T'\n",
      "<>:1: SyntaxWarning: invalid escape sequence '\\T'\n",
      "C:\\Users\\alpagar\\AppData\\Local\\Temp\\ipykernel_27540\\2069099100.py:1: SyntaxWarning: invalid escape sequence '\\T'\n",
      "  df = pd.read_csv(\"data\\TotalPrecipoutFINALFINAL.csv\")\n",
      "C:\\Users\\alpagar\\AppData\\Local\\Temp\\ipykernel_27540\\2069099100.py:1: DtypeWarning: Columns (7) have mixed types. Specify dtype option on import or set low_memory=False.\n",
      "  df = pd.read_csv(\"data\\TotalPrecipoutFINALFINAL.csv\")\n"
     ]
    }
   ],
   "source": [
    "#loading in the df\n",
    "df = pd.read_csv(\"data\\TotalPrecipoutFINALFINAL.csv\")"
   ]
  },
  {
   "cell_type": "code",
   "execution_count": 30,
   "metadata": {},
   "outputs": [],
   "source": [
    "#Filtering and setting up df\n",
    "\n",
    "#only keeping data from 2000's and up\n",
    "df = df[df[\"4 digit year and 2 digit month\"] >= 200000.0]\n",
    "\n",
    "indices = []\n",
    "\n",
    "for index,row in df.iterrows():\n",
    "    if \" \" in row.to_list():\n",
    "        indices.append(index)\n",
    "\n",
    "df.drop(index =indices)\n",
    "\n",
    "#converting station name to hashed integer for easier training\n",
    "df[\"NumericName\"] = df[\"Station name\"].apply(hash)\n",
    "\n",
    "#Adding month\n",
    "df[\"2_Digit_Month\"] = df[\"4 digit year and 2 digit month\"].apply(lambda x: x % 100)"
   ]
  },
  {
   "cell_type": "code",
   "execution_count": 36,
   "metadata": {},
   "outputs": [
    {
     "data": {
      "text/html": [
       "<div>\n",
       "<style scoped>\n",
       "    .dataframe tbody tr th:only-of-type {\n",
       "        vertical-align: middle;\n",
       "    }\n",
       "\n",
       "    .dataframe tbody tr th {\n",
       "        vertical-align: top;\n",
       "    }\n",
       "\n",
       "    .dataframe thead th {\n",
       "        text-align: right;\n",
       "    }\n",
       "</style>\n",
       "<table border=\"1\" class=\"dataframe\">\n",
       "  <thead>\n",
       "    <tr style=\"text-align: right;\">\n",
       "      <th></th>\n",
       "      <th>Latitude</th>\n",
       "      <th>Longitude</th>\n",
       "      <th>Precipitation value (tenths of a millimeter)</th>\n",
       "      <th>Elevation (meters)</th>\n",
       "      <th>4 digit year and 2 digit month</th>\n",
       "      <th>NumericName</th>\n",
       "      <th>2_Digit_Month</th>\n",
       "    </tr>\n",
       "  </thead>\n",
       "  <tbody>\n",
       "    <tr>\n",
       "      <th>Latitude</th>\n",
       "      <td>1.000000</td>\n",
       "      <td>-0.713220</td>\n",
       "      <td>0.023062</td>\n",
       "      <td>0.127998</td>\n",
       "      <td>0.126590</td>\n",
       "      <td>-0.000895</td>\n",
       "      <td>0.000665</td>\n",
       "    </tr>\n",
       "    <tr>\n",
       "      <th>Longitude</th>\n",
       "      <td>-0.713220</td>\n",
       "      <td>1.000000</td>\n",
       "      <td>-0.035726</td>\n",
       "      <td>-0.283518</td>\n",
       "      <td>-0.147962</td>\n",
       "      <td>-0.000704</td>\n",
       "      <td>-0.000661</td>\n",
       "    </tr>\n",
       "    <tr>\n",
       "      <th>Precipitation value (tenths of a millimeter)</th>\n",
       "      <td>0.023062</td>\n",
       "      <td>-0.035726</td>\n",
       "      <td>1.000000</td>\n",
       "      <td>-0.142147</td>\n",
       "      <td>0.041330</td>\n",
       "      <td>0.001769</td>\n",
       "      <td>0.018335</td>\n",
       "    </tr>\n",
       "    <tr>\n",
       "      <th>Elevation (meters)</th>\n",
       "      <td>0.127998</td>\n",
       "      <td>-0.283518</td>\n",
       "      <td>-0.142147</td>\n",
       "      <td>1.000000</td>\n",
       "      <td>-0.021462</td>\n",
       "      <td>0.001126</td>\n",
       "      <td>-0.000382</td>\n",
       "    </tr>\n",
       "    <tr>\n",
       "      <th>4 digit year and 2 digit month</th>\n",
       "      <td>0.126590</td>\n",
       "      <td>-0.147962</td>\n",
       "      <td>0.041330</td>\n",
       "      <td>-0.021462</td>\n",
       "      <td>1.000000</td>\n",
       "      <td>0.004605</td>\n",
       "      <td>-0.009832</td>\n",
       "    </tr>\n",
       "    <tr>\n",
       "      <th>NumericName</th>\n",
       "      <td>-0.000895</td>\n",
       "      <td>-0.000704</td>\n",
       "      <td>0.001769</td>\n",
       "      <td>0.001126</td>\n",
       "      <td>0.004605</td>\n",
       "      <td>1.000000</td>\n",
       "      <td>0.000089</td>\n",
       "    </tr>\n",
       "    <tr>\n",
       "      <th>2_Digit_Month</th>\n",
       "      <td>0.000665</td>\n",
       "      <td>-0.000661</td>\n",
       "      <td>0.018335</td>\n",
       "      <td>-0.000382</td>\n",
       "      <td>-0.009832</td>\n",
       "      <td>0.000089</td>\n",
       "      <td>1.000000</td>\n",
       "    </tr>\n",
       "  </tbody>\n",
       "</table>\n",
       "</div>"
      ],
      "text/plain": [
       "                                              Latitude  Longitude  \\\n",
       "Latitude                                      1.000000  -0.713220   \n",
       "Longitude                                    -0.713220   1.000000   \n",
       "Precipitation value (tenths of a millimeter)  0.023062  -0.035726   \n",
       "Elevation (meters)                            0.127998  -0.283518   \n",
       "4 digit year and 2 digit month                0.126590  -0.147962   \n",
       "NumericName                                  -0.000895  -0.000704   \n",
       "2_Digit_Month                                 0.000665  -0.000661   \n",
       "\n",
       "                                              Precipitation value (tenths of a millimeter)  \\\n",
       "Latitude                                                                          0.023062   \n",
       "Longitude                                                                        -0.035726   \n",
       "Precipitation value (tenths of a millimeter)                                      1.000000   \n",
       "Elevation (meters)                                                               -0.142147   \n",
       "4 digit year and 2 digit month                                                    0.041330   \n",
       "NumericName                                                                       0.001769   \n",
       "2_Digit_Month                                                                     0.018335   \n",
       "\n",
       "                                              Elevation (meters)  \\\n",
       "Latitude                                                0.127998   \n",
       "Longitude                                              -0.283518   \n",
       "Precipitation value (tenths of a millimeter)           -0.142147   \n",
       "Elevation (meters)                                      1.000000   \n",
       "4 digit year and 2 digit month                         -0.021462   \n",
       "NumericName                                             0.001126   \n",
       "2_Digit_Month                                          -0.000382   \n",
       "\n",
       "                                              4 digit year and 2 digit month  \\\n",
       "Latitude                                                            0.126590   \n",
       "Longitude                                                          -0.147962   \n",
       "Precipitation value (tenths of a millimeter)                        0.041330   \n",
       "Elevation (meters)                                                 -0.021462   \n",
       "4 digit year and 2 digit month                                      1.000000   \n",
       "NumericName                                                         0.004605   \n",
       "2_Digit_Month                                                      -0.009832   \n",
       "\n",
       "                                              NumericName  2_Digit_Month  \n",
       "Latitude                                        -0.000895       0.000665  \n",
       "Longitude                                       -0.000704      -0.000661  \n",
       "Precipitation value (tenths of a millimeter)     0.001769       0.018335  \n",
       "Elevation (meters)                               0.001126      -0.000382  \n",
       "4 digit year and 2 digit month                   0.004605      -0.009832  \n",
       "NumericName                                      1.000000       0.000089  \n",
       "2_Digit_Month                                    0.000089       1.000000  "
      ]
     },
     "execution_count": 36,
     "metadata": {},
     "output_type": "execute_result"
    }
   ],
   "source": [
    "\n",
    "correlationdf = df[[\"Latitude\", \"Longitude\", \"Precipitation value (tenths of a millimeter)\", \"Elevation (meters)\",\"4 digit year and 2 digit month\", \"NumericName\", \"2_Digit_Month\"]]\n",
    "correlationdf.corr(method=\"pearson\")\n"
   ]
  },
  {
   "cell_type": "code",
   "execution_count": 38,
   "metadata": {},
   "outputs": [],
   "source": [
    "#since correlation df has all the columns we want lets use it for splitting\n",
    "train = correlationdf.sample(frac=.9)\n",
    "test = correlationdf.drop(index=train.index)\n",
    "\n",
    "\n",
    "X_train = train.drop(columns=\"Precipitation value (tenths of a millimeter)\")\n",
    "y_train = train[\"Precipitation value (tenths of a millimeter)\"]\n",
    "\n",
    "X_test = test.drop(columns=\"Precipitation value (tenths of a millimeter)\")\n",
    "y_test = test[\"Precipitation value (tenths of a millimeter)\"]\n"
   ]
  },
  {
   "cell_type": "code",
   "execution_count": 43,
   "metadata": {},
   "outputs": [
    {
     "name": "stdout",
     "output_type": "stream",
     "text": [
      "0.00024501157950218566\n",
      "0.00023490770524481341\n"
     ]
    }
   ],
   "source": [
    "lr = LinearRegression(fit_intercept=False)\n",
    "lr.fit(X_train, y_train)\n",
    "print(lr.score(X_train, y_train))\n",
    "print(lr.score(X_test, y_test))"
   ]
  },
  {
   "cell_type": "code",
   "execution_count": null,
   "metadata": {},
   "outputs": [],
   "source": []
  }
 ],
 "metadata": {
  "kernelspec": {
   "display_name": "datasci",
   "language": "python",
   "name": "python3"
  },
  "language_info": {
   "codemirror_mode": {
    "name": "ipython",
    "version": 3
   },
   "file_extension": ".py",
   "mimetype": "text/x-python",
   "name": "python",
   "nbconvert_exporter": "python",
   "pygments_lexer": "ipython3",
   "version": "3.12.4"
  }
 },
 "nbformat": 4,
 "nbformat_minor": 2
}
